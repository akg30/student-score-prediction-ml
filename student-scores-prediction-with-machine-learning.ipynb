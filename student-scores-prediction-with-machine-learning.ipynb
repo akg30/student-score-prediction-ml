{
 "cells": [
  {
   "cell_type": "markdown",
   "id": "009e54a4",
   "metadata": {
    "papermill": {
     "duration": 0.016291,
     "end_time": "2023-09-10T11:34:12.479142",
     "exception": false,
     "start_time": "2023-09-10T11:34:12.462851",
     "status": "completed"
    },
    "tags": []
   },
   "source": [
    "# Student Scores Prediction With Machine Learning And Data Science \n",
    "## Created And Done By \"Anubhav Kumar Gupta\""
   ]
  },
  {
   "cell_type": "code",
   "execution_count": 1,
   "id": "5f85ce2b",
   "metadata": {
    "execution": {
     "iopub.execute_input": "2023-09-10T11:34:12.512690Z",
     "iopub.status.busy": "2023-09-10T11:34:12.512154Z",
     "iopub.status.idle": "2023-09-10T11:34:14.873974Z",
     "shell.execute_reply": "2023-09-10T11:34:14.872647Z"
    },
    "papermill": {
     "duration": 2.381409,
     "end_time": "2023-09-10T11:34:14.876881",
     "exception": false,
     "start_time": "2023-09-10T11:34:12.495472",
     "status": "completed"
    },
    "tags": []
   },
   "outputs": [],
   "source": [
    "import numpy as np\n",
    "import pandas as pd\n",
    "import matplotlib.pyplot as plt\n",
    "import seaborn as sns\n",
    "import sklearn"
   ]
  },
  {
   "cell_type": "code",
   "execution_count": 2,
   "id": "6a96498a",
   "metadata": {
    "execution": {
     "iopub.execute_input": "2023-09-10T11:34:14.909698Z",
     "iopub.status.busy": "2023-09-10T11:34:14.909108Z",
     "iopub.status.idle": "2023-09-10T11:34:14.937862Z",
     "shell.execute_reply": "2023-09-10T11:34:14.936841Z"
    },
    "papermill": {
     "duration": 0.048022,
     "end_time": "2023-09-10T11:34:14.940444",
     "exception": false,
     "start_time": "2023-09-10T11:34:14.892422",
     "status": "completed"
    },
    "tags": []
   },
   "outputs": [],
   "source": [
    "df=pd.read_csv('/kaggle/input/students-score-dataset-linear-regression/student_scores.csv')"
   ]
  },
  {
   "cell_type": "code",
   "execution_count": 3,
   "id": "90051bad",
   "metadata": {
    "execution": {
     "iopub.execute_input": "2023-09-10T11:34:14.972491Z",
     "iopub.status.busy": "2023-09-10T11:34:14.972048Z",
     "iopub.status.idle": "2023-09-10T11:34:15.000057Z",
     "shell.execute_reply": "2023-09-10T11:34:14.998598Z"
    },
    "papermill": {
     "duration": 0.047281,
     "end_time": "2023-09-10T11:34:15.002697",
     "exception": false,
     "start_time": "2023-09-10T11:34:14.955416",
     "status": "completed"
    },
    "tags": []
   },
   "outputs": [
    {
     "data": {
      "text/html": [
       "<div>\n",
       "<style scoped>\n",
       "    .dataframe tbody tr th:only-of-type {\n",
       "        vertical-align: middle;\n",
       "    }\n",
       "\n",
       "    .dataframe tbody tr th {\n",
       "        vertical-align: top;\n",
       "    }\n",
       "\n",
       "    .dataframe thead th {\n",
       "        text-align: right;\n",
       "    }\n",
       "</style>\n",
       "<table border=\"1\" class=\"dataframe\">\n",
       "  <thead>\n",
       "    <tr style=\"text-align: right;\">\n",
       "      <th></th>\n",
       "      <th>Hours</th>\n",
       "      <th>Scores</th>\n",
       "    </tr>\n",
       "  </thead>\n",
       "  <tbody>\n",
       "    <tr>\n",
       "      <th>0</th>\n",
       "      <td>2.5</td>\n",
       "      <td>21</td>\n",
       "    </tr>\n",
       "    <tr>\n",
       "      <th>1</th>\n",
       "      <td>5.1</td>\n",
       "      <td>47</td>\n",
       "    </tr>\n",
       "    <tr>\n",
       "      <th>2</th>\n",
       "      <td>3.2</td>\n",
       "      <td>27</td>\n",
       "    </tr>\n",
       "    <tr>\n",
       "      <th>3</th>\n",
       "      <td>8.5</td>\n",
       "      <td>75</td>\n",
       "    </tr>\n",
       "    <tr>\n",
       "      <th>4</th>\n",
       "      <td>3.5</td>\n",
       "      <td>30</td>\n",
       "    </tr>\n",
       "  </tbody>\n",
       "</table>\n",
       "</div>"
      ],
      "text/plain": [
       "   Hours  Scores\n",
       "0    2.5      21\n",
       "1    5.1      47\n",
       "2    3.2      27\n",
       "3    8.5      75\n",
       "4    3.5      30"
      ]
     },
     "execution_count": 3,
     "metadata": {},
     "output_type": "execute_result"
    }
   ],
   "source": [
    "df.head()"
   ]
  },
  {
   "cell_type": "code",
   "execution_count": 4,
   "id": "1fb59a00",
   "metadata": {
    "execution": {
     "iopub.execute_input": "2023-09-10T11:34:15.036221Z",
     "iopub.status.busy": "2023-09-10T11:34:15.035715Z",
     "iopub.status.idle": "2023-09-10T11:34:15.048756Z",
     "shell.execute_reply": "2023-09-10T11:34:15.047473Z"
    },
    "papermill": {
     "duration": 0.034107,
     "end_time": "2023-09-10T11:34:15.051660",
     "exception": false,
     "start_time": "2023-09-10T11:34:15.017553",
     "status": "completed"
    },
    "tags": []
   },
   "outputs": [
    {
     "data": {
      "text/html": [
       "<div>\n",
       "<style scoped>\n",
       "    .dataframe tbody tr th:only-of-type {\n",
       "        vertical-align: middle;\n",
       "    }\n",
       "\n",
       "    .dataframe tbody tr th {\n",
       "        vertical-align: top;\n",
       "    }\n",
       "\n",
       "    .dataframe thead th {\n",
       "        text-align: right;\n",
       "    }\n",
       "</style>\n",
       "<table border=\"1\" class=\"dataframe\">\n",
       "  <thead>\n",
       "    <tr style=\"text-align: right;\">\n",
       "      <th></th>\n",
       "      <th>Hours</th>\n",
       "      <th>Scores</th>\n",
       "    </tr>\n",
       "  </thead>\n",
       "  <tbody>\n",
       "    <tr>\n",
       "      <th>20</th>\n",
       "      <td>2.7</td>\n",
       "      <td>30</td>\n",
       "    </tr>\n",
       "    <tr>\n",
       "      <th>21</th>\n",
       "      <td>4.8</td>\n",
       "      <td>54</td>\n",
       "    </tr>\n",
       "    <tr>\n",
       "      <th>22</th>\n",
       "      <td>3.8</td>\n",
       "      <td>35</td>\n",
       "    </tr>\n",
       "    <tr>\n",
       "      <th>23</th>\n",
       "      <td>6.9</td>\n",
       "      <td>76</td>\n",
       "    </tr>\n",
       "    <tr>\n",
       "      <th>24</th>\n",
       "      <td>7.8</td>\n",
       "      <td>86</td>\n",
       "    </tr>\n",
       "  </tbody>\n",
       "</table>\n",
       "</div>"
      ],
      "text/plain": [
       "    Hours  Scores\n",
       "20    2.7      30\n",
       "21    4.8      54\n",
       "22    3.8      35\n",
       "23    6.9      76\n",
       "24    7.8      86"
      ]
     },
     "execution_count": 4,
     "metadata": {},
     "output_type": "execute_result"
    }
   ],
   "source": [
    "df.tail()"
   ]
  },
  {
   "cell_type": "code",
   "execution_count": 5,
   "id": "67315ef8",
   "metadata": {
    "execution": {
     "iopub.execute_input": "2023-09-10T11:34:15.086325Z",
     "iopub.status.busy": "2023-09-10T11:34:15.085936Z",
     "iopub.status.idle": "2023-09-10T11:34:15.094083Z",
     "shell.execute_reply": "2023-09-10T11:34:15.092696Z"
    },
    "papermill": {
     "duration": 0.029885,
     "end_time": "2023-09-10T11:34:15.096726",
     "exception": false,
     "start_time": "2023-09-10T11:34:15.066841",
     "status": "completed"
    },
    "tags": []
   },
   "outputs": [
    {
     "data": {
      "text/plain": [
       "(25, 2)"
      ]
     },
     "execution_count": 5,
     "metadata": {},
     "output_type": "execute_result"
    }
   ],
   "source": [
    "df.shape"
   ]
  },
  {
   "cell_type": "code",
   "execution_count": 6,
   "id": "70fc8323",
   "metadata": {
    "execution": {
     "iopub.execute_input": "2023-09-10T11:34:15.130491Z",
     "iopub.status.busy": "2023-09-10T11:34:15.129623Z",
     "iopub.status.idle": "2023-09-10T11:34:15.140930Z",
     "shell.execute_reply": "2023-09-10T11:34:15.139609Z"
    },
    "papermill": {
     "duration": 0.031097,
     "end_time": "2023-09-10T11:34:15.143814",
     "exception": false,
     "start_time": "2023-09-10T11:34:15.112717",
     "status": "completed"
    },
    "tags": []
   },
   "outputs": [
    {
     "data": {
      "text/plain": [
       "50"
      ]
     },
     "execution_count": 6,
     "metadata": {},
     "output_type": "execute_result"
    }
   ],
   "source": [
    "df.size"
   ]
  },
  {
   "cell_type": "code",
   "execution_count": 7,
   "id": "2214b485",
   "metadata": {
    "execution": {
     "iopub.execute_input": "2023-09-10T11:34:15.176967Z",
     "iopub.status.busy": "2023-09-10T11:34:15.176533Z",
     "iopub.status.idle": "2023-09-10T11:34:15.184944Z",
     "shell.execute_reply": "2023-09-10T11:34:15.183394Z"
    },
    "papermill": {
     "duration": 0.029032,
     "end_time": "2023-09-10T11:34:15.188576",
     "exception": false,
     "start_time": "2023-09-10T11:34:15.159544",
     "status": "completed"
    },
    "tags": []
   },
   "outputs": [
    {
     "data": {
      "text/plain": [
       "Index(['Hours', 'Scores'], dtype='object')"
      ]
     },
     "execution_count": 7,
     "metadata": {},
     "output_type": "execute_result"
    }
   ],
   "source": [
    "df.columns"
   ]
  },
  {
   "cell_type": "code",
   "execution_count": 8,
   "id": "7e6f5597",
   "metadata": {
    "execution": {
     "iopub.execute_input": "2023-09-10T11:34:15.224557Z",
     "iopub.status.busy": "2023-09-10T11:34:15.223412Z",
     "iopub.status.idle": "2023-09-10T11:34:15.238894Z",
     "shell.execute_reply": "2023-09-10T11:34:15.237950Z"
    },
    "papermill": {
     "duration": 0.036624,
     "end_time": "2023-09-10T11:34:15.241964",
     "exception": false,
     "start_time": "2023-09-10T11:34:15.205340",
     "status": "completed"
    },
    "tags": []
   },
   "outputs": [
    {
     "data": {
      "text/plain": [
       "0"
      ]
     },
     "execution_count": 8,
     "metadata": {},
     "output_type": "execute_result"
    }
   ],
   "source": [
    "df.duplicated().sum()"
   ]
  },
  {
   "cell_type": "code",
   "execution_count": 9,
   "id": "6b5ff70f",
   "metadata": {
    "execution": {
     "iopub.execute_input": "2023-09-10T11:34:15.276478Z",
     "iopub.status.busy": "2023-09-10T11:34:15.276015Z",
     "iopub.status.idle": "2023-09-10T11:34:15.293042Z",
     "shell.execute_reply": "2023-09-10T11:34:15.291853Z"
    },
    "papermill": {
     "duration": 0.03773,
     "end_time": "2023-09-10T11:34:15.295624",
     "exception": false,
     "start_time": "2023-09-10T11:34:15.257894",
     "status": "completed"
    },
    "tags": []
   },
   "outputs": [
    {
     "data": {
      "text/html": [
       "<div>\n",
       "<style scoped>\n",
       "    .dataframe tbody tr th:only-of-type {\n",
       "        vertical-align: middle;\n",
       "    }\n",
       "\n",
       "    .dataframe tbody tr th {\n",
       "        vertical-align: top;\n",
       "    }\n",
       "\n",
       "    .dataframe thead th {\n",
       "        text-align: right;\n",
       "    }\n",
       "</style>\n",
       "<table border=\"1\" class=\"dataframe\">\n",
       "  <thead>\n",
       "    <tr style=\"text-align: right;\">\n",
       "      <th></th>\n",
       "      <th>Hours</th>\n",
       "      <th>Scores</th>\n",
       "    </tr>\n",
       "  </thead>\n",
       "  <tbody>\n",
       "  </tbody>\n",
       "</table>\n",
       "</div>"
      ],
      "text/plain": [
       "Empty DataFrame\n",
       "Columns: [Hours, Scores]\n",
       "Index: []"
      ]
     },
     "execution_count": 9,
     "metadata": {},
     "output_type": "execute_result"
    }
   ],
   "source": [
    "df[df.duplicated(subset=['Hours', 'Scores'],keep=False)]"
   ]
  },
  {
   "cell_type": "code",
   "execution_count": 10,
   "id": "b42bff51",
   "metadata": {
    "execution": {
     "iopub.execute_input": "2023-09-10T11:34:15.331529Z",
     "iopub.status.busy": "2023-09-10T11:34:15.331081Z",
     "iopub.status.idle": "2023-09-10T11:34:15.339447Z",
     "shell.execute_reply": "2023-09-10T11:34:15.337633Z"
    },
    "papermill": {
     "duration": 0.029785,
     "end_time": "2023-09-10T11:34:15.342416",
     "exception": false,
     "start_time": "2023-09-10T11:34:15.312631",
     "status": "completed"
    },
    "tags": []
   },
   "outputs": [],
   "source": [
    "df.drop_duplicates(subset=['Hours', 'Scores'],keep='first',inplace=True)"
   ]
  },
  {
   "cell_type": "code",
   "execution_count": 11,
   "id": "94a630cb",
   "metadata": {
    "execution": {
     "iopub.execute_input": "2023-09-10T11:34:15.379059Z",
     "iopub.status.busy": "2023-09-10T11:34:15.378600Z",
     "iopub.status.idle": "2023-09-10T11:34:15.389851Z",
     "shell.execute_reply": "2023-09-10T11:34:15.388614Z"
    },
    "papermill": {
     "duration": 0.032579,
     "end_time": "2023-09-10T11:34:15.392324",
     "exception": false,
     "start_time": "2023-09-10T11:34:15.359745",
     "status": "completed"
    },
    "tags": []
   },
   "outputs": [
    {
     "data": {
      "text/html": [
       "<div>\n",
       "<style scoped>\n",
       "    .dataframe tbody tr th:only-of-type {\n",
       "        vertical-align: middle;\n",
       "    }\n",
       "\n",
       "    .dataframe tbody tr th {\n",
       "        vertical-align: top;\n",
       "    }\n",
       "\n",
       "    .dataframe thead th {\n",
       "        text-align: right;\n",
       "    }\n",
       "</style>\n",
       "<table border=\"1\" class=\"dataframe\">\n",
       "  <thead>\n",
       "    <tr style=\"text-align: right;\">\n",
       "      <th></th>\n",
       "      <th>Hours</th>\n",
       "      <th>Scores</th>\n",
       "    </tr>\n",
       "  </thead>\n",
       "  <tbody>\n",
       "  </tbody>\n",
       "</table>\n",
       "</div>"
      ],
      "text/plain": [
       "Empty DataFrame\n",
       "Columns: [Hours, Scores]\n",
       "Index: []"
      ]
     },
     "execution_count": 11,
     "metadata": {},
     "output_type": "execute_result"
    }
   ],
   "source": [
    "df[df.duplicated(subset=['Hours', 'Scores'],keep=False)]"
   ]
  },
  {
   "cell_type": "code",
   "execution_count": 12,
   "id": "69202b70",
   "metadata": {
    "execution": {
     "iopub.execute_input": "2023-09-10T11:34:15.427909Z",
     "iopub.status.busy": "2023-09-10T11:34:15.427436Z",
     "iopub.status.idle": "2023-09-10T11:34:15.439114Z",
     "shell.execute_reply": "2023-09-10T11:34:15.437607Z"
    },
    "papermill": {
     "duration": 0.032678,
     "end_time": "2023-09-10T11:34:15.441753",
     "exception": false,
     "start_time": "2023-09-10T11:34:15.409075",
     "status": "completed"
    },
    "tags": []
   },
   "outputs": [
    {
     "data": {
      "text/html": [
       "<div>\n",
       "<style scoped>\n",
       "    .dataframe tbody tr th:only-of-type {\n",
       "        vertical-align: middle;\n",
       "    }\n",
       "\n",
       "    .dataframe tbody tr th {\n",
       "        vertical-align: top;\n",
       "    }\n",
       "\n",
       "    .dataframe thead th {\n",
       "        text-align: right;\n",
       "    }\n",
       "</style>\n",
       "<table border=\"1\" class=\"dataframe\">\n",
       "  <thead>\n",
       "    <tr style=\"text-align: right;\">\n",
       "      <th></th>\n",
       "      <th>Hours</th>\n",
       "      <th>Scores</th>\n",
       "    </tr>\n",
       "  </thead>\n",
       "  <tbody>\n",
       "  </tbody>\n",
       "</table>\n",
       "</div>"
      ],
      "text/plain": [
       "Empty DataFrame\n",
       "Columns: [Hours, Scores]\n",
       "Index: []"
      ]
     },
     "execution_count": 12,
     "metadata": {},
     "output_type": "execute_result"
    }
   ],
   "source": [
    "df[(df['Hours']==3.7)&(df['Scores']==37)]"
   ]
  },
  {
   "cell_type": "code",
   "execution_count": 13,
   "id": "8dbffe5b",
   "metadata": {
    "execution": {
     "iopub.execute_input": "2023-09-10T11:34:15.477589Z",
     "iopub.status.busy": "2023-09-10T11:34:15.477152Z",
     "iopub.status.idle": "2023-09-10T11:34:15.487584Z",
     "shell.execute_reply": "2023-09-10T11:34:15.486293Z"
    },
    "papermill": {
     "duration": 0.031565,
     "end_time": "2023-09-10T11:34:15.490527",
     "exception": false,
     "start_time": "2023-09-10T11:34:15.458962",
     "status": "completed"
    },
    "tags": []
   },
   "outputs": [
    {
     "data": {
      "text/plain": [
       "Hours     0\n",
       "Scores    0\n",
       "dtype: int64"
      ]
     },
     "execution_count": 13,
     "metadata": {},
     "output_type": "execute_result"
    }
   ],
   "source": [
    "df.isna().sum()"
   ]
  },
  {
   "cell_type": "code",
   "execution_count": 14,
   "id": "3bd7706a",
   "metadata": {
    "execution": {
     "iopub.execute_input": "2023-09-10T11:34:15.525733Z",
     "iopub.status.busy": "2023-09-10T11:34:15.525282Z",
     "iopub.status.idle": "2023-09-10T11:34:15.547276Z",
     "shell.execute_reply": "2023-09-10T11:34:15.545475Z"
    },
    "papermill": {
     "duration": 0.042968,
     "end_time": "2023-09-10T11:34:15.550142",
     "exception": false,
     "start_time": "2023-09-10T11:34:15.507174",
     "status": "completed"
    },
    "tags": []
   },
   "outputs": [
    {
     "name": "stdout",
     "output_type": "stream",
     "text": [
      "<class 'pandas.core.frame.DataFrame'>\n",
      "RangeIndex: 25 entries, 0 to 24\n",
      "Data columns (total 2 columns):\n",
      " #   Column  Non-Null Count  Dtype  \n",
      "---  ------  --------------  -----  \n",
      " 0   Hours   25 non-null     float64\n",
      " 1   Scores  25 non-null     int64  \n",
      "dtypes: float64(1), int64(1)\n",
      "memory usage: 528.0 bytes\n"
     ]
    }
   ],
   "source": [
    "df.info()"
   ]
  },
  {
   "cell_type": "code",
   "execution_count": 15,
   "id": "f3579b13",
   "metadata": {
    "execution": {
     "iopub.execute_input": "2023-09-10T11:34:15.587081Z",
     "iopub.status.busy": "2023-09-10T11:34:15.586272Z",
     "iopub.status.idle": "2023-09-10T11:34:15.607926Z",
     "shell.execute_reply": "2023-09-10T11:34:15.606222Z"
    },
    "papermill": {
     "duration": 0.044046,
     "end_time": "2023-09-10T11:34:15.610900",
     "exception": false,
     "start_time": "2023-09-10T11:34:15.566854",
     "status": "completed"
    },
    "tags": []
   },
   "outputs": [
    {
     "data": {
      "text/html": [
       "<div>\n",
       "<style scoped>\n",
       "    .dataframe tbody tr th:only-of-type {\n",
       "        vertical-align: middle;\n",
       "    }\n",
       "\n",
       "    .dataframe tbody tr th {\n",
       "        vertical-align: top;\n",
       "    }\n",
       "\n",
       "    .dataframe thead th {\n",
       "        text-align: right;\n",
       "    }\n",
       "</style>\n",
       "<table border=\"1\" class=\"dataframe\">\n",
       "  <thead>\n",
       "    <tr style=\"text-align: right;\">\n",
       "      <th></th>\n",
       "      <th>Hours</th>\n",
       "      <th>Scores</th>\n",
       "    </tr>\n",
       "  </thead>\n",
       "  <tbody>\n",
       "    <tr>\n",
       "      <th>count</th>\n",
       "      <td>25.000000</td>\n",
       "      <td>25.000000</td>\n",
       "    </tr>\n",
       "    <tr>\n",
       "      <th>mean</th>\n",
       "      <td>5.012000</td>\n",
       "      <td>51.480000</td>\n",
       "    </tr>\n",
       "    <tr>\n",
       "      <th>std</th>\n",
       "      <td>2.525094</td>\n",
       "      <td>25.286887</td>\n",
       "    </tr>\n",
       "    <tr>\n",
       "      <th>min</th>\n",
       "      <td>1.100000</td>\n",
       "      <td>17.000000</td>\n",
       "    </tr>\n",
       "    <tr>\n",
       "      <th>25%</th>\n",
       "      <td>2.700000</td>\n",
       "      <td>30.000000</td>\n",
       "    </tr>\n",
       "    <tr>\n",
       "      <th>50%</th>\n",
       "      <td>4.800000</td>\n",
       "      <td>47.000000</td>\n",
       "    </tr>\n",
       "    <tr>\n",
       "      <th>75%</th>\n",
       "      <td>7.400000</td>\n",
       "      <td>75.000000</td>\n",
       "    </tr>\n",
       "    <tr>\n",
       "      <th>max</th>\n",
       "      <td>9.200000</td>\n",
       "      <td>95.000000</td>\n",
       "    </tr>\n",
       "  </tbody>\n",
       "</table>\n",
       "</div>"
      ],
      "text/plain": [
       "           Hours     Scores\n",
       "count  25.000000  25.000000\n",
       "mean    5.012000  51.480000\n",
       "std     2.525094  25.286887\n",
       "min     1.100000  17.000000\n",
       "25%     2.700000  30.000000\n",
       "50%     4.800000  47.000000\n",
       "75%     7.400000  75.000000\n",
       "max     9.200000  95.000000"
      ]
     },
     "execution_count": 15,
     "metadata": {},
     "output_type": "execute_result"
    }
   ],
   "source": [
    "df.describe()"
   ]
  },
  {
   "cell_type": "code",
   "execution_count": 16,
   "id": "a9d4798a",
   "metadata": {
    "execution": {
     "iopub.execute_input": "2023-09-10T11:34:15.648295Z",
     "iopub.status.busy": "2023-09-10T11:34:15.647685Z",
     "iopub.status.idle": "2023-09-10T11:34:15.661369Z",
     "shell.execute_reply": "2023-09-10T11:34:15.659931Z"
    },
    "papermill": {
     "duration": 0.035588,
     "end_time": "2023-09-10T11:34:15.664040",
     "exception": false,
     "start_time": "2023-09-10T11:34:15.628452",
     "status": "completed"
    },
    "tags": []
   },
   "outputs": [
    {
     "data": {
      "text/html": [
       "<div>\n",
       "<style scoped>\n",
       "    .dataframe tbody tr th:only-of-type {\n",
       "        vertical-align: middle;\n",
       "    }\n",
       "\n",
       "    .dataframe tbody tr th {\n",
       "        vertical-align: top;\n",
       "    }\n",
       "\n",
       "    .dataframe thead th {\n",
       "        text-align: right;\n",
       "    }\n",
       "</style>\n",
       "<table border=\"1\" class=\"dataframe\">\n",
       "  <thead>\n",
       "    <tr style=\"text-align: right;\">\n",
       "      <th></th>\n",
       "      <th>Hours</th>\n",
       "      <th>Scores</th>\n",
       "    </tr>\n",
       "  </thead>\n",
       "  <tbody>\n",
       "    <tr>\n",
       "      <th>Hours</th>\n",
       "      <td>1.000000</td>\n",
       "      <td>0.976191</td>\n",
       "    </tr>\n",
       "    <tr>\n",
       "      <th>Scores</th>\n",
       "      <td>0.976191</td>\n",
       "      <td>1.000000</td>\n",
       "    </tr>\n",
       "  </tbody>\n",
       "</table>\n",
       "</div>"
      ],
      "text/plain": [
       "           Hours    Scores\n",
       "Hours   1.000000  0.976191\n",
       "Scores  0.976191  1.000000"
      ]
     },
     "execution_count": 16,
     "metadata": {},
     "output_type": "execute_result"
    }
   ],
   "source": [
    "df.corr()"
   ]
  },
  {
   "cell_type": "code",
   "execution_count": 17,
   "id": "1e174d98",
   "metadata": {
    "execution": {
     "iopub.execute_input": "2023-09-10T11:34:15.701108Z",
     "iopub.status.busy": "2023-09-10T11:34:15.700665Z",
     "iopub.status.idle": "2023-09-10T11:34:16.039365Z",
     "shell.execute_reply": "2023-09-10T11:34:16.038152Z"
    },
    "papermill": {
     "duration": 0.360423,
     "end_time": "2023-09-10T11:34:16.042264",
     "exception": false,
     "start_time": "2023-09-10T11:34:15.681841",
     "status": "completed"
    },
    "tags": []
   },
   "outputs": [
    {
     "data": {
      "text/plain": [
       "<Axes: >"
      ]
     },
     "execution_count": 17,
     "metadata": {},
     "output_type": "execute_result"
    },
    {
     "data": {
      "image/png": "[encoded data removed]",
      "text/plain": [
       "<Figure size 640x480 with 2 Axes>"
      ]
     },
     "metadata": {},
     "output_type": "display_data"
    }
   ],
   "source": [
    "sns.heatmap(df.corr(),annot=True)"
   ]
  },
  {
   "cell_type": "code",
   "execution_count": 18,
   "id": "06ae8987",
   "metadata": {
    "execution": {
     "iopub.execute_input": "2023-09-10T11:34:16.155631Z",
     "iopub.status.busy": "2023-09-10T11:34:16.155198Z",
     "iopub.status.idle": "2023-09-10T11:34:16.166372Z",
     "shell.execute_reply": "2023-09-10T11:34:16.165024Z"
    },
    "papermill": {
     "duration": 0.034621,
     "end_time": "2023-09-10T11:34:16.168809",
     "exception": false,
     "start_time": "2023-09-10T11:34:16.134188",
     "status": "completed"
    },
    "tags": []
   },
   "outputs": [
    {
     "data": {
      "text/html": [
       "<div>\n",
       "<style scoped>\n",
       "    .dataframe tbody tr th:only-of-type {\n",
       "        vertical-align: middle;\n",
       "    }\n",
       "\n",
       "    .dataframe tbody tr th {\n",
       "        vertical-align: top;\n",
       "    }\n",
       "\n",
       "    .dataframe thead th {\n",
       "        text-align: right;\n",
       "    }\n",
       "</style>\n",
       "<table border=\"1\" class=\"dataframe\">\n",
       "  <thead>\n",
       "    <tr style=\"text-align: right;\">\n",
       "      <th></th>\n",
       "      <th>Scores</th>\n",
       "    </tr>\n",
       "  </thead>\n",
       "  <tbody>\n",
       "    <tr>\n",
       "      <th>Hours</th>\n",
       "      <td>0.976191</td>\n",
       "    </tr>\n",
       "    <tr>\n",
       "      <th>Scores</th>\n",
       "      <td>1.000000</td>\n",
       "    </tr>\n",
       "  </tbody>\n",
       "</table>\n",
       "</div>"
      ],
      "text/plain": [
       "          Scores\n",
       "Hours   0.976191\n",
       "Scores  1.000000"
      ]
     },
     "execution_count": 18,
     "metadata": {},
     "output_type": "execute_result"
    }
   ],
   "source": [
    "df_sc_cor=df.corr()['Scores'].to_frame()\n",
    "df_sc_cor"
   ]
  },
  {
   "cell_type": "code",
   "execution_count": 19,
   "id": "276c3bb7",
   "metadata": {
    "execution": {
     "iopub.execute_input": "2023-09-10T11:34:16.208230Z",
     "iopub.status.busy": "2023-09-10T11:34:16.207827Z",
     "iopub.status.idle": "2023-09-10T11:34:16.455475Z",
     "shell.execute_reply": "2023-09-10T11:34:16.454256Z"
    },
    "papermill": {
     "duration": 0.270783,
     "end_time": "2023-09-10T11:34:16.458447",
     "exception": false,
     "start_time": "2023-09-10T11:34:16.187664",
     "status": "completed"
    },
    "tags": []
   },
   "outputs": [
    {
     "data": {
      "text/plain": [
       "<Axes: ylabel='Scores'>"
      ]
     },
     "execution_count": 19,
     "metadata": {},
     "output_type": "execute_result"
    },
    {
     "data": {
      "image/png": "[encoded data removed]",
      "text/plain": [
       "<Figure size 640x480 with 1 Axes>"
      ]
     },
     "metadata": {},
     "output_type": "display_data"
    }
   ],
   "source": [
    "sns.barplot(data=df_sc_cor,x=df_sc_cor.index,y='Scores')"
   ]
  },
  {
   "cell_type": "code",
   "execution_count": 20,
   "id": "deaf421f",
   "metadata": {
    "execution": {
     "iopub.execute_input": "2023-09-10T11:34:16.496886Z",
     "iopub.status.busy": "2023-09-10T11:34:16.496496Z",
     "iopub.status.idle": "2023-09-10T11:34:16.504940Z",
     "shell.execute_reply": "2023-09-10T11:34:16.503758Z"
    },
    "papermill": {
     "duration": 0.030645,
     "end_time": "2023-09-10T11:34:16.507707",
     "exception": false,
     "start_time": "2023-09-10T11:34:16.477062",
     "status": "completed"
    },
    "tags": []
   },
   "outputs": [],
   "source": [
    "y=df['Scores']\n",
    "x=df.drop(['Scores'],axis=1)"
   ]
  },
  {
   "cell_type": "code",
   "execution_count": 21,
   "id": "9dc21b3d",
   "metadata": {
    "execution": {
     "iopub.execute_input": "2023-09-10T11:34:16.545147Z",
     "iopub.status.busy": "2023-09-10T11:34:16.544720Z",
     "iopub.status.idle": "2023-09-10T11:34:16.715637Z",
     "shell.execute_reply": "2023-09-10T11:34:16.713818Z"
    },
    "papermill": {
     "duration": 0.192903,
     "end_time": "2023-09-10T11:34:16.718509",
     "exception": false,
     "start_time": "2023-09-10T11:34:16.525606",
     "status": "completed"
    },
    "tags": []
   },
   "outputs": [],
   "source": [
    "from sklearn.model_selection import train_test_split"
   ]
  },
  {
   "cell_type": "code",
   "execution_count": 22,
   "id": "2a9df054",
   "metadata": {
    "execution": {
     "iopub.execute_input": "2023-09-10T11:34:16.759900Z",
     "iopub.status.busy": "2023-09-10T11:34:16.759225Z",
     "iopub.status.idle": "2023-09-10T11:34:16.768718Z",
     "shell.execute_reply": "2023-09-10T11:34:16.767680Z"
    },
    "papermill": {
     "duration": 0.031603,
     "end_time": "2023-09-10T11:34:16.771071",
     "exception": false,
     "start_time": "2023-09-10T11:34:16.739468",
     "status": "completed"
    },
    "tags": []
   },
   "outputs": [],
   "source": [
    "x_train,x_test,y_train,y_test=train_test_split(x,y,test_size=0.3,random_state=42)"
   ]
  },
  {
   "cell_type": "code",
   "execution_count": 23,
   "id": "5abf5c0e",
   "metadata": {
    "execution": {
     "iopub.execute_input": "2023-09-10T11:34:16.810145Z",
     "iopub.status.busy": "2023-09-10T11:34:16.808978Z",
     "iopub.status.idle": "2023-09-10T11:34:16.816870Z",
     "shell.execute_reply": "2023-09-10T11:34:16.815876Z"
    },
    "papermill": {
     "duration": 0.029682,
     "end_time": "2023-09-10T11:34:16.819217",
     "exception": false,
     "start_time": "2023-09-10T11:34:16.789535",
     "status": "completed"
    },
    "tags": []
   },
   "outputs": [
    {
     "data": {
      "text/plain": [
       "((17, 1), (8, 1), (17,), (8,))"
      ]
     },
     "execution_count": 23,
     "metadata": {},
     "output_type": "execute_result"
    }
   ],
   "source": [
    "x_train.shape,x_test.shape,y_train.shape,y_test.shape"
   ]
  },
  {
   "cell_type": "code",
   "execution_count": 24,
   "id": "c76c6b83",
   "metadata": {
    "execution": {
     "iopub.execute_input": "2023-09-10T11:34:16.859570Z",
     "iopub.status.busy": "2023-09-10T11:34:16.859142Z",
     "iopub.status.idle": "2023-09-10T11:34:16.984813Z",
     "shell.execute_reply": "2023-09-10T11:34:16.983055Z"
    },
    "papermill": {
     "duration": 0.149836,
     "end_time": "2023-09-10T11:34:16.988172",
     "exception": false,
     "start_time": "2023-09-10T11:34:16.838336",
     "status": "completed"
    },
    "tags": []
   },
   "outputs": [],
   "source": [
    "from sklearn.linear_model import LinearRegression"
   ]
  },
  {
   "cell_type": "code",
   "execution_count": 25,
   "id": "03d60e51",
   "metadata": {
    "execution": {
     "iopub.execute_input": "2023-09-10T11:34:17.029544Z",
     "iopub.status.busy": "2023-09-10T11:34:17.029095Z",
     "iopub.status.idle": "2023-09-10T11:34:17.034815Z",
     "shell.execute_reply": "2023-09-10T11:34:17.033363Z"
    },
    "papermill": {
     "duration": 0.029614,
     "end_time": "2023-09-10T11:34:17.037441",
     "exception": false,
     "start_time": "2023-09-10T11:34:17.007827",
     "status": "completed"
    },
    "tags": []
   },
   "outputs": [],
   "source": [
    "model=LinearRegression()"
   ]
  },
  {
   "cell_type": "code",
   "execution_count": 26,
   "id": "d5474aec",
   "metadata": {
    "execution": {
     "iopub.execute_input": "2023-09-10T11:34:17.079132Z",
     "iopub.status.busy": "2023-09-10T11:34:17.078182Z",
     "iopub.status.idle": "2023-09-10T11:34:17.114587Z",
     "shell.execute_reply": "2023-09-10T11:34:17.112544Z"
    },
    "papermill": {
     "duration": 0.060066,
     "end_time": "2023-09-10T11:34:17.117084",
     "exception": false,
     "start_time": "2023-09-10T11:34:17.057018",
     "status": "completed"
    },
    "tags": []
   },
   "outputs": [
    {
     "data": {
      "text/html": [
       "<style>#sk-container-id-1 {color: black;background-color: white;}#sk-container-id-1 pre{padding: 0;}#sk-container-id-1 div.sk-toggleable {background-color: white;}#sk-container-id-1 label.sk-toggleable__label {cursor: pointer;display: block;width: 100%;margin-bottom: 0;padding: 0.3em;box-sizing: border-box;text-align: center;}#sk-container-id-1 label.sk-toggleable__label-arrow:before {content: \"▸\";float: left;margin-right: 0.25em;color: #696969;}#sk-container-id-1 label.sk-toggleable__label-arrow:hover:before {color: black;}#sk-container-id-1 div.sk-estimator:hover label.sk-toggleable__label-arrow:before {color: black;}#sk-container-id-1 div.sk-toggleable__content {max-height: 0;max-width: 0;overflow: hidden;text-align: left;background-color: #f0f8ff;}#sk-container-id-1 div.sk-toggleable__content pre {margin: 0.2em;color: black;border-radius: 0.25em;background-color: #f0f8ff;}#sk-container-id-1 input.sk-toggleable__control:checked~div.sk-toggleable__content {max-height: 200px;max-width: 100%;overflow: auto;}#sk-container-id-1 input.sk-toggleable__control:checked~label.sk-toggleable__label-arrow:before {content: \"▾\";}#sk-container-id-1 div.sk-estimator input.sk-toggleable__control:checked~label.sk-toggleable__label {background-color: #d4ebff;}#sk-container-id-1 div.sk-label input.sk-toggleable__control:checked~label.sk-toggleable__label {background-color: #d4ebff;}#sk-container-id-1 input.sk-hidden--visually {border: 0;clip: rect(1px 1px 1px 1px);clip: rect(1px, 1px, 1px, 1px);height: 1px;margin: -1px;overflow: hidden;padding: 0;position: absolute;width: 1px;}#sk-container-id-1 div.sk-estimator {font-family: monospace;background-color: #f0f8ff;border: 1px dotted black;border-radius: 0.25em;box-sizing: border-box;margin-bottom: 0.5em;}#sk-container-id-1 div.sk-estimator:hover {background-color: #d4ebff;}#sk-container-id-1 div.sk-parallel-item::after {content: \"\";width: 100%;border-bottom: 1px solid gray;flex-grow: 1;}#sk-container-id-1 div.sk-label:hover label.sk-toggleable__label {background-color: #d4ebff;}#sk-container-id-1 div.sk-serial::before {content: \"\";position: absolute;border-left: 1px solid gray;box-sizing: border-box;top: 0;bottom: 0;left: 50%;z-index: 0;}#sk-container-id-1 div.sk-serial {display: flex;flex-direction: column;align-items: center;background-color: white;padding-right: 0.2em;padding-left: 0.2em;position: relative;}#sk-container-id-1 div.sk-item {position: relative;z-index: 1;}#sk-container-id-1 div.sk-parallel {display: flex;align-items: stretch;justify-content: center;background-color: white;position: relative;}#sk-container-id-1 div.sk-item::before, #sk-container-id-1 div.sk-parallel-item::before {content: \"\";position: absolute;border-left: 1px solid gray;box-sizing: border-box;top: 0;bottom: 0;left: 50%;z-index: -1;}#sk-container-id-1 div.sk-parallel-item {display: flex;flex-direction: column;z-index: 1;position: relative;background-color: white;}#sk-container-id-1 div.sk-parallel-item:first-child::after {align-self: flex-end;width: 50%;}#sk-container-id-1 div.sk-parallel-item:last-child::after {align-self: flex-start;width: 50%;}#sk-container-id-1 div.sk-parallel-item:only-child::after {width: 0;}#sk-container-id-1 div.sk-dashed-wrapped {border: 1px dashed gray;margin: 0 0.4em 0.5em 0.4em;box-sizing: border-box;padding-bottom: 0.4em;background-color: white;}#sk-container-id-1 div.sk-label label {font-family: monospace;font-weight: bold;display: inline-block;line-height: 1.2em;}#sk-container-id-1 div.sk-label-container {text-align: center;}#sk-container-id-1 div.sk-container {/* jupyter's `normalize.less` sets `[hidden] { display: none; }` but bootstrap.min.css set `[hidden] { display: none !important; }` so we also need the `!important` here to be able to override the default hidden behavior on the sphinx rendered scikit-learn.org. See: https://github.com/scikit-learn/scikit-learn/issues/21755 */display: inline-block !important;position: relative;}#sk-container-id-1 div.sk-text-repr-fallback {display: none;}</style><div id=\"sk-container-id-1\" class=\"sk-top-container\"><div class=\"sk-text-repr-fallback\"><pre>LinearRegression()</pre><b>In a Jupyter environment, please rerun this cell to show the HTML representation or trust the notebook. <br />On GitHub, the HTML representation is unable to render, please try loading this page with nbviewer.org.</b></div><div class=\"sk-container\" hidden><div class=\"sk-item\"><div class=\"sk-estimator sk-toggleable\"><input class=\"sk-toggleable__control sk-hidden--visually\" id=\"sk-estimator-id-1\" type=\"checkbox\" checked><label for=\"sk-estimator-id-1\" class=\"sk-toggleable__label sk-toggleable__label-arrow\">LinearRegression</label><div class=\"sk-toggleable__content\"><pre>LinearRegression()</pre></div></div></div></div></div>"
      ],
      "text/plain": [
       "LinearRegression()"
      ]
     },
     "execution_count": 26,
     "metadata": {},
     "output_type": "execute_result"
    }
   ],
   "source": [
    "model.fit(x_train,y_train)"
   ]
  },
  {
   "cell_type": "code",
   "execution_count": 27,
   "id": "42029fed",
   "metadata": {
    "execution": {
     "iopub.execute_input": "2023-09-10T11:34:17.164889Z",
     "iopub.status.busy": "2023-09-10T11:34:17.164498Z",
     "iopub.status.idle": "2023-09-10T11:34:17.173808Z",
     "shell.execute_reply": "2023-09-10T11:34:17.172649Z"
    },
    "papermill": {
     "duration": 0.035499,
     "end_time": "2023-09-10T11:34:17.176438",
     "exception": false,
     "start_time": "2023-09-10T11:34:17.140939",
     "status": "completed"
    },
    "tags": []
   },
   "outputs": [
    {
     "data": {
      "text/plain": [
       "0.9536486503889446"
      ]
     },
     "execution_count": 27,
     "metadata": {},
     "output_type": "execute_result"
    }
   ],
   "source": [
    "model.score(x_train,y_train)"
   ]
  },
  {
   "cell_type": "code",
   "execution_count": 28,
   "id": "1710d0b6",
   "metadata": {
    "execution": {
     "iopub.execute_input": "2023-09-10T11:34:17.218898Z",
     "iopub.status.busy": "2023-09-10T11:34:17.218375Z",
     "iopub.status.idle": "2023-09-10T11:34:17.227668Z",
     "shell.execute_reply": "2023-09-10T11:34:17.226478Z"
    },
    "papermill": {
     "duration": 0.034022,
     "end_time": "2023-09-10T11:34:17.230205",
     "exception": false,
     "start_time": "2023-09-10T11:34:17.196183",
     "status": "completed"
    },
    "tags": []
   },
   "outputs": [
    {
     "data": {
      "text/plain": [
       "0.9487647340257012"
      ]
     },
     "execution_count": 28,
     "metadata": {},
     "output_type": "execute_result"
    }
   ],
   "source": [
    "model.score(x_test,y_test)"
   ]
  },
  {
   "cell_type": "code",
   "execution_count": 29,
   "id": "e3de02a6",
   "metadata": {
    "execution": {
     "iopub.execute_input": "2023-09-10T11:34:17.283208Z",
     "iopub.status.busy": "2023-09-10T11:34:17.281815Z",
     "iopub.status.idle": "2023-09-10T11:34:17.292221Z",
     "shell.execute_reply": "2023-09-10T11:34:17.291014Z"
    },
    "papermill": {
     "duration": 0.038452,
     "end_time": "2023-09-10T11:34:17.295237",
     "exception": false,
     "start_time": "2023-09-10T11:34:17.256785",
     "status": "completed"
    },
    "tags": []
   },
   "outputs": [
    {
     "data": {
      "text/plain": [
       "2.794196676599803"
      ]
     },
     "execution_count": 29,
     "metadata": {},
     "output_type": "execute_result"
    }
   ],
   "source": [
    "model.intercept_"
   ]
  },
  {
   "cell_type": "code",
   "execution_count": 30,
   "id": "8dce6466",
   "metadata": {
    "execution": {
     "iopub.execute_input": "2023-09-10T11:34:17.356901Z",
     "iopub.status.busy": "2023-09-10T11:34:17.355659Z",
     "iopub.status.idle": "2023-09-10T11:34:17.364605Z",
     "shell.execute_reply": "2023-09-10T11:34:17.363270Z"
    },
    "papermill": {
     "duration": 0.043539,
     "end_time": "2023-09-10T11:34:17.367893",
     "exception": false,
     "start_time": "2023-09-10T11:34:17.324354",
     "status": "completed"
    },
    "tags": []
   },
   "outputs": [
    {
     "data": {
      "text/plain": [
       "array([9.71054094])"
      ]
     },
     "execution_count": 30,
     "metadata": {},
     "output_type": "execute_result"
    }
   ],
   "source": [
    "model.coef_"
   ]
  },
  {
   "cell_type": "code",
   "execution_count": 31,
   "id": "2dfd26c9",
   "metadata": {
    "execution": {
     "iopub.execute_input": "2023-09-10T11:34:17.418433Z",
     "iopub.status.busy": "2023-09-10T11:34:17.417707Z",
     "iopub.status.idle": "2023-09-10T11:34:17.424271Z",
     "shell.execute_reply": "2023-09-10T11:34:17.423400Z"
    },
    "papermill": {
     "duration": 0.031804,
     "end_time": "2023-09-10T11:34:17.426945",
     "exception": false,
     "start_time": "2023-09-10T11:34:17.395141",
     "status": "completed"
    },
    "tags": []
   },
   "outputs": [],
   "source": [
    "y_pred=model.predict(x_test)"
   ]
  },
  {
   "cell_type": "code",
   "execution_count": 32,
   "id": "91752d65",
   "metadata": {
    "execution": {
     "iopub.execute_input": "2023-09-10T11:34:17.472566Z",
     "iopub.status.busy": "2023-09-10T11:34:17.471528Z",
     "iopub.status.idle": "2023-09-10T11:34:17.482480Z",
     "shell.execute_reply": "2023-09-10T11:34:17.480051Z"
    },
    "papermill": {
     "duration": 0.039803,
     "end_time": "2023-09-10T11:34:17.486250",
     "exception": false,
     "start_time": "2023-09-10T11:34:17.446447",
     "status": "completed"
    },
    "tags": []
   },
   "outputs": [
    {
     "data": {
      "text/plain": [
       "array([83.39168645, 27.07054902, 27.07054902, 69.79692914, 60.0863882 ,\n",
       "       29.0126572 , 34.83898177, 52.31795545])"
      ]
     },
     "execution_count": 32,
     "metadata": {},
     "output_type": "execute_result"
    }
   ],
   "source": [
    "y_pred"
   ]
  },
  {
   "cell_type": "code",
   "execution_count": 33,
   "id": "589b6129",
   "metadata": {
    "execution": {
     "iopub.execute_input": "2023-09-10T11:34:17.537028Z",
     "iopub.status.busy": "2023-09-10T11:34:17.535502Z",
     "iopub.status.idle": "2023-09-10T11:34:17.542325Z",
     "shell.execute_reply": "2023-09-10T11:34:17.541132Z"
    },
    "papermill": {
     "duration": 0.034542,
     "end_time": "2023-09-10T11:34:17.545022",
     "exception": false,
     "start_time": "2023-09-10T11:34:17.510480",
     "status": "completed"
    },
    "tags": []
   },
   "outputs": [],
   "source": [
    "i_d=(6.1,)"
   ]
  },
  {
   "cell_type": "code",
   "execution_count": 34,
   "id": "a168e35a",
   "metadata": {
    "execution": {
     "iopub.execute_input": "2023-09-10T11:34:17.593639Z",
     "iopub.status.busy": "2023-09-10T11:34:17.591949Z",
     "iopub.status.idle": "2023-09-10T11:34:17.599400Z",
     "shell.execute_reply": "2023-09-10T11:34:17.598072Z"
    },
    "papermill": {
     "duration": 0.033056,
     "end_time": "2023-09-10T11:34:17.602279",
     "exception": false,
     "start_time": "2023-09-10T11:34:17.569223",
     "status": "completed"
    },
    "tags": []
   },
   "outputs": [],
   "source": [
    "i_a=np.asarray(i_d)"
   ]
  },
  {
   "cell_type": "code",
   "execution_count": 35,
   "id": "7996ce84",
   "metadata": {
    "execution": {
     "iopub.execute_input": "2023-09-10T11:34:17.645085Z",
     "iopub.status.busy": "2023-09-10T11:34:17.644670Z",
     "iopub.status.idle": "2023-09-10T11:34:17.650113Z",
     "shell.execute_reply": "2023-09-10T11:34:17.648782Z"
    },
    "papermill": {
     "duration": 0.031097,
     "end_time": "2023-09-10T11:34:17.652930",
     "exception": false,
     "start_time": "2023-09-10T11:34:17.621833",
     "status": "completed"
    },
    "tags": []
   },
   "outputs": [],
   "source": [
    "i_a_r=np.reshape(i_a,(1,-1))"
   ]
  },
  {
   "cell_type": "code",
   "execution_count": 36,
   "id": "5c97c6b8",
   "metadata": {
    "execution": {
     "iopub.execute_input": "2023-09-10T11:34:17.697657Z",
     "iopub.status.busy": "2023-09-10T11:34:17.697099Z",
     "iopub.status.idle": "2023-09-10T11:34:17.707631Z",
     "shell.execute_reply": "2023-09-10T11:34:17.705896Z"
    },
    "papermill": {
     "duration": 0.036147,
     "end_time": "2023-09-10T11:34:17.710445",
     "exception": false,
     "start_time": "2023-09-10T11:34:17.674298",
     "status": "completed"
    },
    "tags": []
   },
   "outputs": [
    {
     "name": "stderr",
     "output_type": "stream",
     "text": [
      "/opt/conda/lib/python3.10/site-packages/sklearn/base.py:439: UserWarning: X does not have valid feature names, but LinearRegression was fitted with feature names\n",
      "  warnings.warn(\n"
     ]
    }
   ],
   "source": [
    "y_predict=model.predict(i_a_r)"
   ]
  },
  {
   "cell_type": "code",
   "execution_count": 37,
   "id": "fcd68751",
   "metadata": {
    "execution": {
     "iopub.execute_input": "2023-09-10T11:34:17.754503Z",
     "iopub.status.busy": "2023-09-10T11:34:17.754050Z",
     "iopub.status.idle": "2023-09-10T11:34:17.762180Z",
     "shell.execute_reply": "2023-09-10T11:34:17.760980Z"
    },
    "papermill": {
     "duration": 0.033297,
     "end_time": "2023-09-10T11:34:17.764806",
     "exception": false,
     "start_time": "2023-09-10T11:34:17.731509",
     "status": "completed"
    },
    "tags": []
   },
   "outputs": [
    {
     "data": {
      "text/plain": [
       "array([62.02849639])"
      ]
     },
     "execution_count": 37,
     "metadata": {},
     "output_type": "execute_result"
    }
   ],
   "source": [
    "y_predict"
   ]
  },
  {
   "cell_type": "markdown",
   "id": "9cba59a5",
   "metadata": {
    "papermill": {
     "duration": 0.021376,
     "end_time": "2023-09-10T11:34:17.808743",
     "exception": false,
     "start_time": "2023-09-10T11:34:17.787367",
     "status": "completed"
    },
    "tags": []
   },
   "source": [
    "## Thanks And Regards \n",
    "### Anubhav Kumar Gupta"
   ]
  }
 ],
 "kernelspec": {
  "display_name": "Python 3",
  "language": "python",
  "name": "python3"
 },
 "language_info": {
  "codemirror_mode": {
   "name": "ipython",
   "version": 3
  },
  "file_extension": ".py",
  "mimetype": "text/x-python",
  "name": "python",
  "nbconvert_exporter": "python",
  "pygments_lexer": "ipython3",
  "version": "3.6.4"
 },
 "metadata": {
  "kernelspec": {
   "display_name": "Python 3",
   "language": "python",
   "name": "python3"
  },
  "language_info": {
   "codemirror_mode": {
    "name": "ipython",
    "version": 3
   },
   "file_extension": ".py",
   "mimetype": "text/x-python",
   "name": "python",
   "nbconvert_exporter": "python",
   "pygments_lexer": "ipython3",
   "version": "3.10.12"
  },
  "papermill": {
   "default_parameters": {},
   "duration": 9.994784,
   "end_time": "2023-09-10T11:34:18.555211",
   "environment_variables": {},
   "exception": null,
   "input_path": "__notebook__.ipynb",
   "output_path": "__notebook__.ipynb",
   "parameters": {},
   "start_time": "2023-09-10T11:34:08.560427",
   "version": "2.4.0"
  }
 },
 "nbformat": 4,
 "nbformat_minor": 5
}
